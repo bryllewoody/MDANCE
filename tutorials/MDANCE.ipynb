{
  "nbformat": 4,
  "nbformat_minor": 0,
  "metadata": {
    "colab": {
      "provenance": [],
      "gpuType": "T4"
    },
    "kernelspec": {
      "name": "python3",
      "display_name": "Python 3"
    },
    "language_info": {
      "name": "python"
    },
    "accelerator": "GPU"
  },
  "cells": [
    {
      "cell_type": "markdown",
      "source": [
        "# **MDANCE**\n",
        "**Molecular Dynamics Analysis with N-ary Clustering Ensembles (MDANCE)** is a flexible n-ary clustering package that provides a set of tools for clustering Molecular Dynamics trajectories. The package is designed to be modular and extensible, allowing for the addition of new clustering algorithms and similarity metrics. You can find more information here: https://mdance.readthedocs.io/\n",
        "\n",
        "Notebook by [Pablo Ricardo Arantes](https://pablo-arantes.github.io/)"
      ],
      "metadata": {
        "id": "nrSZQE8GihAM"
      }
    },
    {
      "cell_type": "markdown",
      "source": [
        "# **Overview**\n",
        "This clustering notebook is meant for Molecular Dynamics datasets. We will use the k-Means N-Ary Natural Initiation (NANI) algorithm to select initial centroids on k-Means clustering. NANI is an extension of the k-Means++ algorithm. NANI stratifies the data to high density region and perform diversity selection on top of the it to select the initial centroids. This is a deterministic algorithm that will always select the same initial centroids for the same dataset and improve on k-means++ by reducing the number of iterations required to converge and improve the clustering quality.\n",
        "\n",
        "For more information on the NANI algorithm, please refer to the NANI paper: https://doi.org/10.1021/acs.jctc.4c00308."
      ],
      "metadata": {
        "id": "jgeOeiUOjNOt"
      }
    },
    {
      "cell_type": "code",
      "execution_count": null,
      "metadata": {
        "cellView": "form",
        "id": "Yl-chW2_YYn6"
      },
      "outputs": [],
      "source": [
        "#@title **Install MDANCE**\n",
        "#@markdown It will be fast. ;-)\n",
        "%%capture\n",
        "import sys\n",
        "import tarfile\n",
        "import os\n",
        "import subprocess\n",
        "import sys\n",
        "\n",
        "commands = [\n",
        "    \"pip install mdance\",\n",
        "]\n",
        "\n",
        "for cmd in commands:\n",
        "    subprocess.run(cmd, shell=True)"
      ]
    },
    {
      "cell_type": "code",
      "source": [
        "# @title ### **Preprocessing of Molecular Dynamics Data**\n",
        "#@markdown MDANCE provides a set of tools to preprocess molecular dynamics trajectories before clustering. This includes reading the trajectories, normalizing them, and aligning them. The present cell reads a trajectory and save it as a numpy array.\n",
        "\n",
        "import numpy as np\n",
        "\n",
        "from mdance import data\n",
        "from mdance.inputs.preprocess import gen_traj_numpy\n",
        "\n",
        "#@markdown **Before to start, don't forget to upload your topology and trajectory here at Google Colab.**\n",
        "\n",
        "\n",
        "#@markdown Enter the path for the trajectory file (e.g., protG_short):\n",
        "trajectory_file =  'protG_short' #@param {type:\"string\"}\n",
        "input_format_trajectory = \"dcd\" #@param [\"pdb\", \"dcd\", \"nc\", \"xtc\", \"gro\", \"trr\"]\n",
        "\n",
        "\n",
        "#@markdown Enter the path for the topology file (e.g., protG_short):\n",
        "\n",
        "topology_file = 'protG_short' #@param {type:\"string\"}\n",
        "input_format_topology = \"pdb\" #@param [\"pdb\", \"gro\", \"top\", \"tpr\", \"prmtop\", \"parm7\", \"psf\"]\n",
        "\n",
        "\n",
        "#@markdown The atom selection used for clustering that must be compatible with the [MDAnalysis Atom Selections Language](https://userguide.mdanalysis.org/stable/selections.html).\n",
        "\n",
        "\n",
        "selection = 'name CA' #@param {type:\"string\"}\n",
        "output_file_name = 'protG_short' #@param {type:\"string\"}\n",
        "\n",
        "input_traj = f'{trajectory_file}.{input_format_trajectory}'\n",
        "input_top = f'{topology_file}.{input_format_topology}'\n",
        "output_base_name = output_file_name\n",
        "atomSelection = selection\n",
        "\n",
        "traj_numpy = gen_traj_numpy(input_top, input_traj, atomSelection)\n",
        "output_name = output_base_name + '.npy'\n",
        "np.save(output_name, traj_numpy)"
      ],
      "metadata": {
        "colab": {
          "base_uri": "https://localhost:8080/"
        },
        "cellView": "form",
        "id": "qTHPje8DYg1C",
        "outputId": "43a29b12-bfff-4fbd-b1ca-410637b5262d"
      },
      "execution_count": null,
      "outputs": [
        {
          "output_type": "stream",
          "name": "stderr",
          "text": [
            "/usr/local/lib/python3.10/dist-packages/MDAnalysis/coordinates/DCD.py:165: DeprecationWarning: DCDReader currently makes independent timesteps by copying self.ts while other readers update self.ts inplace. This behavior will be changed in 3.0 to be the same as other readers. Read more at https://github.com/MDAnalysis/mdanalysis/issues/3889 to learn if this change in behavior might affect you.\n",
            "  warnings.warn(\"DCDReader currently makes independent timesteps\"\n"
          ]
        },
        {
          "output_type": "stream",
          "name": "stdout",
          "text": [
            "Number of atoms in trajectory: 5162\n",
            "Number of frames in trajectory: 1000\n",
            "Number of atoms in selection: 317\n"
          ]
        }
      ]
    },
    {
      "cell_type": "code",
      "source": [
        "# @title ### **NANI Screening**\n",
        "#@markdown  This cell will run NANI for a range of clusters and calculate cluster quality metrics. For the best result, we recommend running NANI over a wide range of number of clusters. Specified the following NANI parameters:\n",
        "import os\n",
        "\n",
        "import numpy as np\n",
        "\n",
        "from mdance.cluster.nani import KmeansNANI, compute_scores\n",
        "from mdance import data\n",
        "from mdance.tools.bts import extended_comparison\n",
        "\n",
        "#@markdown **N_atoms** is the number of atoms used in the clustering.\n",
        "\n",
        "N_atoms = \"317\" #@param {type:\"string\"}\n",
        "#@markdown **sieve** takes every sieve-th frame from the trajectory for analysis.\n",
        "\n",
        "sieve = \"1\" #@param {type:\"string\"}\n",
        "\n",
        "#@markdown **start_n_clusters** is the starting number for screening. This number must be greater than 2.\n",
        "\n",
        "start_n_clusters = \"2\" #@param {type:\"string\"}\n",
        "\n",
        "#@markdown **end_n_clusters** is the ending number for screening.\n",
        "\n",
        "end_n_clusters = \"30\" #@param {type:\"string\"}\n",
        "\n",
        "\n",
        "# System info\n",
        "input_traj_numpy = output_name\n",
        "N_atoms = int(N_atoms)\n",
        "sieve = int(sieve)\n",
        "\n",
        "# NANI parameters\n",
        "output_dir = f'outputs_{output_file_name}'\n",
        "init_types = ['comp_sim']                                           # Must be a list\n",
        "metric = 'MSD'\n",
        "start_n_clusters = int(start_n_clusters)                                                # At least 2 clusters\n",
        "end_n_clusters = int(end_n_clusters)                                                 # Maximum number of clusters\n",
        "\n",
        "\n",
        "if __name__ == '__main__':\n",
        "    if not os.path.exists(output_dir):\n",
        "        os.makedirs(output_dir)\n",
        "\n",
        "    traj_numpy = np.load(input_traj_numpy)[::sieve]\n",
        "    for init_type in init_types:\n",
        "        if init_type in ['k-means++', 'random', 'vanilla_kmeans++']:\n",
        "            percentage = ''\n",
        "\n",
        "        # `comp_sim` and `div_select` are ran only once to get the initiators\n",
        "        elif init_type in ['comp_sim', 'div_select']:\n",
        "            percentage = 10\n",
        "            mod = KmeansNANI(data=traj_numpy, n_clusters=end_n_clusters, metric=metric,\n",
        "                             N_atoms=N_atoms, init_type=init_type, percentage=percentage)\n",
        "            initiators = mod.initiate_kmeans()\n",
        "\n",
        "        all_scores = []\n",
        "        for i in range(start_n_clusters, end_n_clusters+1):\n",
        "            total = 0\n",
        "\n",
        "            # Run k-means clustering\n",
        "            if init_type in ['comp_sim', 'div_select']:\n",
        "                mod = KmeansNANI(data=traj_numpy, n_clusters=i, metric=metric,\n",
        "                                 N_atoms=N_atoms, init_type=init_type, percentage=percentage)\n",
        "                labels, centers, n_iter = mod.kmeans_clustering(initiators)\n",
        "            elif init_type in ['k-means++', 'random']:\n",
        "                mod = KmeansNANI(data=traj_numpy, n_clusters=i, metric=metric,\n",
        "                                 N_atoms=N_atoms, init_type=init_type)\n",
        "                labels, centers, n_iter = mod.kmeans_clustering(initiators=init_type)\n",
        "            elif init_type == 'vanilla_kmeans++':\n",
        "                mod = KmeansNANI(data=traj_numpy, n_clusters=i, metric=metric,\n",
        "                                 N_atoms=N_atoms, init_type=init_type)\n",
        "                initiators = mod.initiate_kmeans()\n",
        "                labels, centers, n_iter = mod.kmeans_clustering(initiators=initiators)\n",
        "\n",
        "\n",
        "            # Compute scores\n",
        "            ch_score, db_score = compute_scores(data=traj_numpy, labels=labels)\n",
        "\n",
        "            # Calculate MSD for each cluster\n",
        "            dict = {}\n",
        "            for j in range(i):\n",
        "                dict[j] = np.where(labels == j)[0]\n",
        "                dict[j] = traj_numpy[dict[j]]\n",
        "            for key in dict:\n",
        "                msd = extended_comparison(np.array(dict[key]), traj_numpy_type='full',\n",
        "                                          metric=metric, N_atoms=N_atoms)\n",
        "                total += msd\n",
        "            all_scores.append((i, n_iter, ch_score, db_score, total/i))\n",
        "\n",
        "        all_scores = np.array(all_scores)\n",
        "        header = f'init_type: {init_type}, percentage: {percentage}, metric: {metric}, sieve: {sieve}\\n'\n",
        "        header += 'Number of clusters, Number of iterations, Calinski-Harabasz score, Davies-Bouldin score, Average MSD'\n",
        "        np.savetxt(f'{output_dir}/{output_file_name}_summary.csv', all_scores,\n",
        "                   delimiter=',', header=header, fmt='%s')"
      ],
      "metadata": {
        "cellView": "form",
        "id": "n74vDVFiYwIx"
      },
      "execution_count": null,
      "outputs": []
    },
    {
      "cell_type": "code",
      "source": [
        "# @title ### **Cluster Analysis**\n",
        "#@markdown The output from last cell (NANI screening) will be used to plot the optimal number of clusters.\n",
        "\n",
        "#@markdown The function below will plot the Davies-Bouldin index and the optimal number of clusters.\n",
        "#@markdown The optimal number of clusters is determined by the minimum Davies-Bouldin index or the minimum of the second derivative of the Davies-Bouldin index.\n",
        "\n",
        "\n",
        "import matplotlib.pyplot as plt\n",
        "import numpy as np\n",
        "\n",
        "scores_csvs = [f'{output_dir}/{output_file_name}_summary.csv']\n",
        "\n",
        "def plot_scores(scores_csv):\n",
        "    \"\"\"Plot the Davies-Bouldin index and the optimal number of clusters.\n",
        "\n",
        "    Parameters\n",
        "    ----------\n",
        "    scores_csv : str\n",
        "        The path to the csv file that contains the screening\n",
        "\n",
        "    Returns\n",
        "    -------\n",
        "    file\n",
        "        A png file that contains the plot of the Davies-Bouldin index and the optimal number of clusters\n",
        "    \"\"\"\n",
        "    base_name = scores_csv.split('\\\\')[-1].split('.csv')[0]\n",
        "    n_clus, db = np.loadtxt(scores_csv, unpack=True, delimiter=',', usecols=(0, 3))\n",
        "\n",
        "    # Plot the Davies-Bouldin index and the optimal number of clusters\n",
        "    all_indices = np.argsort(db)\n",
        "    min_db_index = all_indices[0]\n",
        "    min_db = n_clus[min_db_index]\n",
        "    all_indices = np.delete(all_indices, 0)\n",
        "    second_min_index = all_indices[0]\n",
        "    second_min_db = n_clus[second_min_index]\n",
        "\n",
        "    fig, ax = plt.subplots()\n",
        "    ax.plot(n_clus, db, color='#005cde', label='DBI', linewidth=2)\n",
        "    ax.set_xlabel('Cluster Number')\n",
        "    ax.set_ylabel('Davies-Bouldin Index')\n",
        "    ax.axvline(x=min_db, color='#de005c', linestyle='--', label=f'Optimal Cluster Number: {int(min_db)}', linewidth=2)\n",
        "    ax.axvline(x=second_min_db, color='#00ab64', linestyle='--', label=f'Second Optimal Cluster Number: {int(second_min_db)}', linewidth=2)\n",
        "\n",
        "    # Calculate the second derivative (before + after - 2*current)\n",
        "    arr = db\n",
        "    x = n_clus[1:-1]\n",
        "    result = []\n",
        "    for start_index, n_clusters in zip(range(1, len(arr) - 1), x):\n",
        "        temp = arr[start_index + 1] + arr[start_index - 1] - (2 * arr[start_index])\n",
        "        if arr[start_index] <= arr[start_index - 1] and arr[start_index] <= arr[start_index + 1]:\n",
        "            result.append((n_clusters, temp))\n",
        "    result = np.array(result)\n",
        "    if len(result) == 0:\n",
        "        print('No maxima found')\n",
        "    elif len(result) >= 1:\n",
        "        sorted_indices = np.argsort(result[:, 1])[::-1]\n",
        "        sorted_result = result[sorted_indices]\n",
        "        min_x = sorted_result[0][0]\n",
        "        ax.axvline(x=min_x, color='#de8200', linestyle='--', label=f'Optimal 2nd deriv Cluster Number: {int(min_x)}', linewidth=2)\n",
        "        if len(sorted_result) >= 2:\n",
        "            sec_min_x = sorted_result[1][0]\n",
        "            ax.axvline(x=sec_min_x, color='#6400ab', linestyle='--', label=f'Second Optimal 2nd deriv Cluster Number: {int(sec_min_x)}', linewidth=2)\n",
        "\n",
        "    ax.legend(fontsize=10)\n",
        "    plt.savefig(f'outputs_{output_file_name}/{output_file_name}_summary.png', format='png', dpi=300)\n",
        "    plt.show()\n",
        "\n",
        "if __name__ == '__main__':\n",
        "    for scores_csv in scores_csvs:\n",
        "        plot_scores(scores_csv)"
      ],
      "metadata": {
        "colab": {
          "base_uri": "https://localhost:8080/",
          "height": 449
        },
        "cellView": "form",
        "id": "LIlFOllyZzBL",
        "outputId": "ac7c7eb1-e7f2-4f74-e2f1-e3465bcd7622"
      },
      "execution_count": null,
      "outputs": [
        {
          "output_type": "display_data",
          "data": {
            "text/plain": [
              "<Figure size 640x480 with 1 Axes>"
            ],
            "image/png": "[encoded data removed]"
          },
          "metadata": {}
        }
      ]
    },
    {
      "cell_type": "code",
      "source": [
        "# @title ### **Cluster Assignment**\n",
        "#@markdown This cell will assign labels to the clusters for k-means clustering using the initialization methods. The following parameters need to be specified:\n",
        "\n",
        "import os\n",
        "\n",
        "import numpy as np\n",
        "\n",
        "from mdance.cluster.nani import KmeansNANI\n",
        "from mdance import data\n",
        "from mdance.tools.bts import extended_comparison, calculate_medoid\n",
        "\n",
        "\n",
        "#@markdown **N_atoms** is the number of atoms used in the clustering.\n",
        "N_atoms = \"317\" #@param {type:\"string\"}\n",
        "#@markdown **sieve** takes every sieveth frame from the trajectory for analysis.\n",
        "sieve = \"1\" #@param {type:\"string\"}\n",
        "#@markdown **n_clusters** is the number of clusters for labeling.\n",
        "n_clusters = \"18\" #@param {type:\"string\"}\n",
        "#@markdown **n_structures** is the number of frames to extract from each cluster.\n",
        "n_structures = \"20\" #@param {type:\"string\"}\n",
        "\n",
        "\n",
        "\n",
        "# System info - EDIT THESE\n",
        "input_traj_numpy = output_name\n",
        "N_atoms = int(N_atoms)\n",
        "sieve = int(sieve)\n",
        "\n",
        "# K-means params - EDIT THESE\n",
        "n_clusters = int(n_clusters)\n",
        "init_type = 'comp_sim'                                              # Default\n",
        "metric = 'MSD'                                                      # Default\n",
        "n_structures = int(n_structures)                                                   # Default\n",
        "output_dir = f'outputs_{output_file_name}'                                              # Default\n",
        "\n",
        "\n",
        "if __name__ == '__main__':\n",
        "    if not os.path.exists(output_dir):\n",
        "        os.makedirs(output_dir)\n",
        "\n",
        "    traj_numpy = np.load(input_traj_numpy)[::sieve]\n",
        "    mod = KmeansNANI(data=traj_numpy, n_clusters=n_clusters, N_atoms=N_atoms, init_type=init_type,\n",
        "                     metric=metric, percentage=10)\n",
        "    labels, centers, n_iter = mod.execute_kmeans_all()\n",
        "    sort_labels_by_size = np.argsort(np.bincount(labels))[::-1]\n",
        "    labels = np.array([np.where(sort_labels_by_size == i)[0][0] for i in labels])\n",
        "    best_frames = []\n",
        "    cluster_msd = []\n",
        "\n",
        "    # Save best frames indices for each cluster\n",
        "    for i, label in enumerate(np.unique(labels)):\n",
        "        cluster = np.where(labels == label)[0]\n",
        "        if len(cluster) > 1:\n",
        "            medoid_index = calculate_medoid(traj_numpy[cluster], metric=metric, N_atoms=N_atoms)\n",
        "            medoid = traj_numpy[cluster][medoid_index]\n",
        "            msd_to_medoid = []\n",
        "            for j, frame in enumerate(traj_numpy[cluster]):\n",
        "                msd_to_medoid.append((j, extended_comparison(\n",
        "                    np.array([frame, medoid]), data_type='full', metric=metric, N_atoms=N_atoms)))\n",
        "            msd_to_medoid = np.array(msd_to_medoid)\n",
        "            sorted_indices = np.argsort(msd_to_medoid[:, 1])\n",
        "            best_n_structures = traj_numpy[cluster][sorted_indices[:n_structures]]\n",
        "            best_frames.append(best_n_structures)\n",
        "\n",
        "    best_frames_indices = []\n",
        "    for i, frame in enumerate(traj_numpy):\n",
        "        i = i * sieve\n",
        "        for j, cluster in enumerate(best_frames):\n",
        "            if np.any(np.all(cluster == frame, axis=1)):\n",
        "                best_frames_indices.append((i, j))\n",
        "    best_frames_indices = np.array(best_frames_indices)\n",
        "    best_frames_indices = best_frames_indices[best_frames_indices[:, 1].argsort()]\n",
        "    np.savetxt(f'{output_dir}/best_frames_indices_{n_clusters}.csv', best_frames_indices, delimiter=',', fmt='%s',\n",
        "               header=f'Numer of clusters,{n_clusters}\\nFrame Index,Cluster Index')\n",
        "\n",
        "    # Save cluster labels\n",
        "    with open(f'{output_dir}/labels_{n_clusters}.csv', 'w') as f:\n",
        "        f.write(f'# init_type: {init_type}, Number of clusters: {n_clusters}\\n')\n",
        "        f.write('# Frame Index, Cluster Index\\n')\n",
        "        for i, row in enumerate(labels):\n",
        "            f.write(f'{i * sieve},{row}\\n')\n",
        "\n",
        "    # Calculate population of each cluster\n",
        "    with open(f'{output_dir}/summary_{n_clusters}.csv', 'w') as f:\n",
        "        f.write(f'# Number of clusters, {n_clusters}\\n')\n",
        "        f.write('# Cluster Index, Fraction out of total pixels\\n')\n",
        "        for i, row in enumerate(np.bincount(labels)):\n",
        "            f.write(f'{i},{row/len(labels)}\\n')"
      ],
      "metadata": {
        "cellView": "form",
        "id": "GJn8NQMyaSVf"
      },
      "execution_count": null,
      "outputs": []
    },
    {
      "cell_type": "code",
      "source": [
        "# @title ### **Extract frames for each cluster**\n",
        "#@markdown MDANCE provides a set of tools to postprocess the clustering results. This cell will write out trajectories for each cluster.\n",
        "\n",
        "import MDAnalysis as mda\n",
        "import numpy as np\n",
        "\n",
        "from mdance import data\n",
        "\n",
        "output_format = \"dcd\" #@param [\"dcd\", \"nc\", \"xtc\", \"gro\", \"trr\"]\n",
        "\n",
        "input_traj = f'{trajectory_file}.{input_format_trajectory}'\n",
        "input_top = f'{topology_file}.{input_format_topology}'\n",
        "\n",
        "u = mda.Universe(input_top, input_traj)\n",
        "print(f'Number of atoms in the trajectory: {u.atoms.n_atoms}')\n",
        "\n",
        "cluster_assignment = f'{output_dir}/best_frames_indices_{n_clusters}.csv'\n",
        "\n",
        "x, y = np.loadtxt(cluster_assignment, delimiter=',', skiprows=2, dtype=int, unpack=True)\n",
        "\n",
        "# get x value in a list for every unique y value\n",
        "frames = [x[y == i] for i in np.unique(y)]\n",
        "\n",
        "for i, frame in enumerate(frames):\n",
        "   # write trajectory with only the selected frames in frames[i]\n",
        "    with mda.Writer(f'{output_dir}/best_frames_{i}.{output_format}', u.atoms.n_atoms) as W:\n",
        "        for ts in u.trajectory[frame]:\n",
        "            W.write(u.atoms)"
      ],
      "metadata": {
        "colab": {
          "base_uri": "https://localhost:8080/"
        },
        "cellView": "form",
        "id": "ZlAcsZm9aqMa",
        "outputId": "49ac6f75-8b59-461c-8a77-b37102866150"
      },
      "execution_count": null,
      "outputs": [
        {
          "output_type": "stream",
          "name": "stdout",
          "text": [
            "Number of atoms in the trajectory: 5162\n"
          ]
        }
      ]
    },
    {
      "cell_type": "code",
      "source": [
        "#@title **Download your results**\n",
        "from google.colab import files\n",
        "import locale\n",
        "def getpreferredencoding(do_setlocale = True):\n",
        "    return \"UTF-8\"\n",
        "locale.getpreferredencoding = getpreferredencoding\n",
        "\n",
        "if os.path.exists(f\"results_MDANCE_{output_file_name}.zip\"):\n",
        "  os.remove(f\"results_MDANCE_{output_file_name}.zip\")\n",
        "else:\n",
        "  pass\n",
        "\n",
        "subprocess.run(f\"zip -FSr results_MDANCE_{output_file_name}.zip {output_dir}\" , shell=True)\n",
        "\n",
        "files.download(f\"results_MDANCE_{output_file_name}.zip\")"
      ],
      "metadata": {
        "colab": {
          "base_uri": "https://localhost:8080/",
          "height": 17
        },
        "cellView": "form",
        "id": "7f3xpECKu_MH",
        "outputId": "6f55d4d8-aafb-48d2-ef93-62ff4f7fde5f"
      },
      "execution_count": null,
      "outputs": [
        {
          "output_type": "display_data",
          "data": {
            "text/plain": [
              "<IPython.core.display.Javascript object>"
            ],
            "application/javascript": [
              "\n",
              "    async function download(id, filename, size) {\n",
              "      if (!google.colab.kernel.accessAllowed) {\n",
              "        return;\n",
              "      }\n",
              "      const div = document.createElement('div');\n",
              "      const label = document.createElement('label');\n",
              "      label.textContent = `Downloading \"${filename}\": `;\n",
              "      div.appendChild(label);\n",
              "      const progress = document.createElement('progress');\n",
              "      progress.max = size;\n",
              "      div.appendChild(progress);\n",
              "      document.body.appendChild(div);\n",
              "\n",
              "      const buffers = [];\n",
              "      let downloaded = 0;\n",
              "\n",
              "      const channel = await google.colab.kernel.comms.open(id);\n",
              "      // Send a message to notify the kernel that we're ready.\n",
              "      channel.send({})\n",
              "\n",
              "      for await (const message of channel.messages) {\n",
              "        // Send a message to notify the kernel that we're ready.\n",
              "        channel.send({})\n",
              "        if (message.buffers) {\n",
              "          for (const buffer of message.buffers) {\n",
              "            buffers.push(buffer);\n",
              "            downloaded += buffer.byteLength;\n",
              "            progress.value = downloaded;\n",
              "          }\n",
              "        }\n",
              "      }\n",
              "      const blob = new Blob(buffers, {type: 'application/binary'});\n",
              "      const a = document.createElement('a');\n",
              "      a.href = window.URL.createObjectURL(blob);\n",
              "      a.download = filename;\n",
              "      div.appendChild(a);\n",
              "      a.click();\n",
              "      div.remove();\n",
              "    }\n",
              "  "
            ]
          },
          "metadata": {}
        },
        {
          "output_type": "display_data",
          "data": {
            "text/plain": [
              "<IPython.core.display.Javascript object>"
            ],
            "application/javascript": [
              "download(\"download_c586ab91-5893-4d4a-9c9b-ac26bf2d8fdf\", \"results_MDANCE_TSLP_TSLPR_test1.zip\", 67977535)"
            ]
          },
          "metadata": {}
        }
      ]
    }
  ]
}